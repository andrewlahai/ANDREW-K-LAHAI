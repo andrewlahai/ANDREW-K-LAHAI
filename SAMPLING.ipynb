{
 "cells": [
  {
   "cell_type": "markdown",
   "metadata": {},
   "source": [
    "# DOT PRODUCT IN NUMPY"
   ]
  },
  {
   "cell_type": "markdown",
   "metadata": {},
   "source": [
    "#### Specifically, there are two rules to consider in dot product in python:\n",
    "#### 1.\tIf both vector “A” and vector “B” are 1-dimensional arrays, it is an inner product of vector (without complex conjugation).\n",
    "#### 2.\tIf both vector “A” and vector “B” are 2-dimensional arrays, it is a matrix multiplication.\n",
    "#### You can only multiply two matrices if the number of columns of the first matrix is equal to the number of rows of the second matrix.\n",
    "#### If the shape of one matrix is (m*n) and the shape of the other one should be (n*t).\n"
   ]
  },
  {
   "cell_type": "markdown",
   "metadata": {},
   "source": [
    "# DOT PRODUCT OF TWO MATRICES."
   ]
  },
  {
   "cell_type": "markdown",
   "metadata": {},
   "source": [
    "#### We can then go ahead and multiply 2 matrices, here is an example of a 1*1 matrix “A” multiply with 1*1 matrix “B”.\n",
    "#### That is: A * B = C\n"
   ]
  },
  {
   "cell_type": "markdown",
   "metadata": {},
   "source": [
    "**QUESTION**\n",
    "\n",
    "$$ A = \\begin{bmatrix}-1\\\\ 2\\\\ 3 \\end{bmatrix} B = \\begin{bmatrix}0 \\\\ 2 \\\\ 1 \\end{bmatrix}=7 $$\n",
    "\n",
    "**SOLUTION**\n",
    "\n",
    "**STEP 1**\n",
    "$$ \\begin{bmatrix}(-1*0)+(2*2)+(3*1) \\end{bmatrix} $$\n",
    "\n",
    "**STEP 2:**   \n",
    "$$\n",
    "\\begin{bmatrix}0+4+3\\end{bmatrix} $$\n",
    "\n",
    "**FINAL ANSWER**\n",
    "\n",
    "$$\n",
    "\\begin{bmatrix}7\\end{bmatrix} $$\n"
   ]
  },
  {
   "cell_type": "markdown",
   "metadata": {},
   "source": [
    "Firstly, import the Numpy package in your workspace and then create a 2D matrix as explained in the example above \n",
    "or any other matrix structure you want to try it out. Then create a vector ensuring the number of rows being equal \n",
    "to the number of columns in the matrix.You can then use the “dot()” method in the matrix and vector. It will return the result vector for you as showen.\n",
    "You can check out the entire notebook and play around with the code using.\n",
    "Let’s code them using Numpy:\n"
   ]
  },
  {
   "cell_type": "code",
   "execution_count": 9,
   "metadata": {},
   "outputs": [],
   "source": [
    "import numpy as np\n",
    "#we are importing the library\n"
   ]
  },
  {
   "cell_type": "code",
   "execution_count": 11,
   "metadata": {},
   "outputs": [],
   "source": [
    "a = np. array ([[-1, 2, 3]])\n",
    "b = np. array([[-0, 2, 1]])\n",
    "#we are using vector “a” and vector “b”"
   ]
  },
  {
   "cell_type": "code",
   "execution_count": 12,
   "metadata": {},
   "outputs": [
    {
     "name": "stdout",
     "output_type": "stream",
     "text": [
      "[[-1  2  3]]\n"
     ]
    }
   ],
   "source": [
    "print(a)"
   ]
  },
  {
   "cell_type": "code",
   "execution_count": 13,
   "metadata": {},
   "outputs": [
    {
     "name": "stdout",
     "output_type": "stream",
     "text": [
      "[[0 2 1]]\n"
     ]
    }
   ],
   "source": [
    "print(b)"
   ]
  },
  {
   "cell_type": "code",
   "execution_count": 14,
   "metadata": {},
   "outputs": [
    {
     "data": {
      "text/plain": [
       "array([[7]])"
      ]
     },
     "execution_count": 14,
     "metadata": {},
     "output_type": "execute_result"
    }
   ],
   "source": [
    "np.inner(a, b)"
   ]
  },
  {
   "cell_type": "code",
   "execution_count": 15,
   "metadata": {},
   "outputs": [],
   "source": [
    "#we are finding the inner product"
   ]
  },
  {
   "cell_type": "code",
   "execution_count": null,
   "metadata": {},
   "outputs": [],
   "source": []
  },
  {
   "cell_type": "code",
   "execution_count": null,
   "metadata": {},
   "outputs": [],
   "source": []
  }
 ],
 "metadata": {
  "kernelspec": {
   "display_name": "Python 3",
   "language": "python",
   "name": "python3"
  },
  "language_info": {
   "codemirror_mode": {
    "name": "ipython",
    "version": 3
   },
   "file_extension": ".py",
   "mimetype": "text/x-python",
   "name": "python",
   "nbconvert_exporter": "python",
   "pygments_lexer": "ipython3",
   "version": "3.8.5"
  }
 },
 "nbformat": 4,
 "nbformat_minor": 4
}
