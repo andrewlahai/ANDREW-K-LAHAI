{
 "cells": [
  {
   "cell_type": "markdown",
   "metadata": {},
   "source": [
    "[Problem 1]number of grains of rice on the 100th day"
   ]
  },
  {
   "cell_type": "code",
   "execution_count": 5,
   "metadata": {},
   "outputs": [
    {
     "name": "stdout",
     "output_type": "stream",
     "text": [
      "Total on the 100th day:  1267650600228229401496703205374\n",
      "633825300114114700748351602688\n"
     ]
    }
   ],
   "source": [
    "## Calculating the total number of grain on the 100th day days\n",
    "list_of_rices = []\n",
    "for i in range(1, 100):\n",
    "    grain_of_rice_days = rice_of_hideyoshi * 2**i\n",
    "    list_of_rices.append(grain_of_rice_days)\n",
    "sum_of_rices = sum(list_of_rices)\n",
    "print(\"Total on the 100th day: \", sum_of_rices)\n",
    "\n",
    "\n"
   ]
  },
  {
   "cell_type": "markdown",
   "metadata": {},
   "source": [
    "[problem 2] number of rice grains outside of the 100th day"
   ]
  },
  {
   "cell_type": "code",
   "execution_count": 7,
   "metadata": {},
   "outputs": [
    {
     "name": "stdout",
     "output_type": "stream",
     "text": [
      "[1, 3, 7, 15, 31, 63, 127, 255, 511, 1023, 2047, 4095, 8191, 16383, 32767, 65535, 131071, 262143, 524287, 1048575, 2097151, 4194303, 8388607, 16777215, 33554431, 67108863, 134217727, 268435455, 536870911, 1073741823]\n"
     ]
    }
   ],
   "source": [
    "from itertools import accumulate\n",
    "\n",
    "def compute_sorori_shinzaemon(day=100):\n",
    "\n",
    "    rice_of_shinzaemon = 1\n",
    "    list_n_grains = []\n",
    "    \n",
    "    \n",
    "    for i in range(day):\n",
    "        grain_of_rices = rice_of_hideyoshi * 2**i\n",
    "        list_n_grains.append(grain_of_rices)\n",
    "    \n",
    "    \n",
    "    list_of_rices = []\n",
    "    for i in range(day):\n",
    "        grain_of_rices = rice_of_shinzaemon * 2**i\n",
    "        list_of_rices.append(grain_of_rices)\n",
    "        list_total_grains = list(accumulate(list_of_rices))\n",
    "        \n",
    "    pass\n",
    "    return list_n_grains, list_total_grains\n",
    "\n",
    "list_n_grains, list_total_grains = compute_sorori_shinzaemon(30)\n",
    "\n",
    "print(list_total_grains)\n"
   ]
  },
  {
   "cell_type": "markdown",
   "metadata": {},
   "source": [
    "[Problem 3] how many people can live for how many days with the rice we get"
   ]
  },
  {
   "cell_type": "code",
   "execution_count": 15,
   "metadata": {},
   "outputs": [
    {
     "name": "stdout",
     "output_type": "stream",
     "text": [
      "858\n"
     ]
    }
   ],
   "source": [
    "bmr = 1500000 #Basal metabolic rate\n",
    "number_of_people = 60\n",
    "calorie_of_rice = 72\n",
    "\n",
    "\n",
    "rices = list_total_grains[-1]\n",
    "\n",
    "def days_of_can_survive(rices, number_of_people):\n",
    "    days = rices / (BASL_METABOLISM * number_of_people / calorie_of_rice)\n",
    "    return int(days)\n",
    "\n",
    "print(days_of_can_survive(rices, number_of_people))\n"
   ]
  },
  {
   "cell_type": "code",
   "execution_count": null,
   "metadata": {},
   "outputs": [],
   "source": []
  }
 ],
 "metadata": {
  "kernelspec": {
   "display_name": "Python 3",
   "language": "python",
   "name": "python3"
  },
  "language_info": {
   "codemirror_mode": {
    "name": "ipython",
    "version": 3
   },
   "file_extension": ".py",
   "mimetype": "text/x-python",
   "name": "python",
   "nbconvert_exporter": "python",
   "pygments_lexer": "ipython3",
   "version": "3.8.5"
  }
 },
 "nbformat": 4,
 "nbformat_minor": 4
}
