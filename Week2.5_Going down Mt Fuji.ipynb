{
  "nbformat": 4,
  "nbformat_minor": 0,
  "metadata": {
    "colab": {
      "name": "Week2.5_Going down Mt. Fuji.ipynb",
      "provenance": [],
      "collapsed_sections": []
    },
    "kernelspec": {
      "name": "python3",
      "display_name": "Python 3"
    }
  },
  "cells": [
    {
      "cell_type": "code",
      "metadata": {
        "id": "Od6vcgwC4EYl"
      },
      "source": [
        "import numpy as np\r\n",
        "np.set_printoptions(suppress=True) \r\n",
        "fuji = np.loadtxt(\"mtfuji_data.csv\",delimiter=\",\", skiprows=1)\r\n",
        "print(fuji[130:140])"
      ],
      "execution_count": null,
      "outputs": []
    },
    {
      "cell_type": "markdown",
      "metadata": {
        "id": "0URPdqHL4M1y"
      },
      "source": [
        "[Problem 1] Visualization of data"
      ]
    },
    {
      "cell_type": "code",
      "metadata": {
        "id": "jYg4B59yY6-g"
      },
      "source": [
        "import matplotlib.pyplot as plt\r\n",
        "%matplotlib inline\r\n",
        "\r\n",
        "plt.xlabel(\"x\")\r\n",
        "plt.ylabel(\"elevation[m]\")\r\n",
        "plt.title(\"Mt. Fuji\")\r\n",
        "plt.plot(fuji[:,0], fuji[:,3],)\r\n",
        "plt.plot(fuji[136,0],fuji[136,3],c=\"blue\",marker='r')\r\n",
        "plt.annotate(\"Current Place\", xy=(136,fuji[136,3]) , xytext=(80,3000) , arrowprops=dict(facecolor='orange'))\r\n",
        "plt.show()"
      ],
      "execution_count": null,
      "outputs": []
    },
    {
      "cell_type": "markdown",
      "metadata": {
        "id": "kX9ni2TH44vC"
      },
      "source": [
        "[Problem 2] Create a function to calculate the slope of a point"
      ]
    },
    {
      "cell_type": "code",
      "metadata": {
        "id": "CHlEi4rl5fdq"
      },
      "source": [
        "def gradient(x):\r\n",
        "    return (fuji[x,3] - fuji[x-1,3]) / (x-(x-1))\r\n",
        "    \r\n",
        "gradient(136)"
      ],
      "execution_count": null,
      "outputs": []
    },
    {
      "cell_type": "markdown",
      "metadata": {
        "id": "AY8ez-FC5HA7"
      },
      "source": [
        "[Problem 3] Create a function to calculate the destination"
      ]
    },
    {
      "cell_type": "code",
      "metadata": {
        "id": "DyymRljz45oT"
      },
      "source": [
        "def compute_next_position(position, elevation, alpha=0.1):\r\n",
        "    next_position = position - alpha*gradient(position)\r\n",
        "    next_position = np.maximum(1, next_position)\r\n",
        "    next_position = np.minimum(len(elevation)-1, next_position)\r\n",
        "    next_position_int = np.round(next_position).astype(np.int)\r\n",
        "    return next_position_int\r\n",
        "\r\n",
        "position = 136\r\n",
        "fuji_elevations = fuji[:,3]\r\n",
        "\r\n",
        "next_position = compute_next_position(position, fuji_elevations, alpha=0.1)\r\n",
        "print(position, next_position)"
      ],
      "execution_count": null,
      "outputs": []
    },
    {
      "cell_type": "code",
      "metadata": {
        "id": "CsmKhMdB4_lf"
      },
      "source": [
        "def gradient_descent(position, elevations):\r\n",
        "    return elevations[position] - elevations[position -1]\r\n",
        "\r\n",
        "position = 136\r\n",
        "fuji_elevations = fuji[:, 3]\r\n",
        "\r\n",
        "print(position, gradient_descent(position, fuji_elevations))"
      ],
      "execution_count": null,
      "outputs": []
    },
    {
      "cell_type": "code",
      "metadata": {
        "id": "m33AOSFg5DOz"
      },
      "source": [
        "position = np.array([135, 136, 137])\r\n",
        "fuji_elevations = fuji[:, 3]\r\n",
        "next_position = compute_next_position(position, fuji_elevations, alpha=0.1)\r\n",
        "print(position, gradient_descent(position, fuji_elevations))"
      ],
      "execution_count": null,
      "outputs": []
    },
    {
      "cell_type": "markdown",
      "metadata": {
        "id": "GXKwUGmB5xdx"
      },
      "source": [
        "[Problem 4] Creating a function to go down the mountain"
      ]
    },
    {
      "cell_type": "code",
      "metadata": {
        "id": "tOJTUvCM5LYE"
      },
      "source": [
        "def desend_mount(start_position, elevations, alpha = 0.1):\r\n",
        "    position = [start_position]\r\n",
        "    while position[-1] not in position[:-1]:\r\n",
        "        position.append(compute_next_position(position[-1], elevations, alpha = alpha))\r\n",
        "    return position[:-1]\r\n",
        "\r\n",
        "start_position = 136\r\n",
        "fuji_elevations = fuji[:, 3]\r\n",
        "descended_list = desend_mount(start_position, fuji_elevations, alpha = 0.1)\r\n",
        "print(descended_list)"
      ],
      "execution_count": null,
      "outputs": []
    },
    {
      "cell_type": "markdown",
      "metadata": {
        "id": "5yT_Upyk56dq"
      },
      "source": [
        "[Problem 5] Visualization of the descent process"
      ]
    },
    {
      "cell_type": "code",
      "metadata": {
        "id": "upzBPkCz59OM"
      },
      "source": [
        "fuji_elevations = fuji[:, 3]\r\n",
        "descended_elevations = fuji_elevations[descended_list]\r\n",
        "\r\n",
        "plt.title(\"downhall process of mt.fuji\")\r\n",
        "plt.ylabel(\"elevation[M]\")\r\n",
        "plt.xlabel(\"position\")\r\n",
        "plt.plot(fuji_elevations)\r\n",
        "plt.scatter(descended_list, descended_elevations, 20, color = \"red\")\r\n",
        "plt.show()"
      ],
      "execution_count": null,
      "outputs": []
    },
    {
      "cell_type": "code",
      "metadata": {
        "id": "5rFAxeti6EVE"
      },
      "source": [
        "fuji_elevations = fuji[:, 3]\r\n",
        "descended_elevations = fuji_elevations[descended_list]\r\n",
        "\r\n",
        "plt.title(\"downhall process of mt.fuji\")\r\n",
        "plt.ylabel(\"elevation[M]\")\r\n",
        "plt.xlabel(\"number of iterations\")\r\n",
        "plt.plot(descended_elevations)\r\n",
        "plt.show()"
      ],
      "execution_count": null,
      "outputs": []
    },
    {
      "cell_type": "markdown",
      "metadata": {
        "id": "Nyy_1t-46I7b"
      },
      "source": [
        "[Problem 6] Change of initial value"
      ]
    },
    {
      "cell_type": "code",
      "metadata": {
        "id": "DObC5dRd6J6q"
      },
      "source": [
        "descended_list = []\r\n",
        "for i, start_position in enumerate(range(1, 300)):\r\n",
        "    descended_list.append(desend_mount(start_position, fuji[:, 3], alpha=0.2))\r\n",
        "    print(len(descended_list))"
      ],
      "execution_count": null,
      "outputs": []
    },
    {
      "cell_type": "markdown",
      "metadata": {
        "id": "9y0AteFF6RW8"
      },
      "source": [
        "[Problem 7] (Advance problem) Change hyperparameters"
      ]
    },
    {
      "cell_type": "code",
      "metadata": {
        "id": "XgDPQAu36SBK"
      },
      "source": [
        "start_position = 136\r\n",
        "alphas = np.array([0.005, 0.01, 0.05, 0.1, 0.5, 1])\r\n",
        "descended_list_alphas = []\r\n",
        "for i, alpha in enumerate(alphas):\r\n",
        "    descended_list_alphas.append(desend_mount(start_position, fuji[:, 3], alpha=alpha))\r\n",
        "print(len(descended_list_alphas))"
      ],
      "execution_count": null,
      "outputs": []
    }
  ]
}