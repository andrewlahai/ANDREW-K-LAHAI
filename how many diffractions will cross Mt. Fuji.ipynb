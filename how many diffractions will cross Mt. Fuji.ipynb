{
 "cells": [
  {
   "cell_type": "markdown",
   "metadata": {},
   "source": [
    "[problem 1] Minimum number of folds over Mt.Fuji"
   ]
  },
  {
   "cell_type": "code",
   "execution_count": 4,
   "metadata": {},
   "outputs": [
    {
     "name": "stdout",
     "output_type": "stream",
     "text": [
      "26\n"
     ]
    }
   ],
   "source": [
    "HEIGHT_OF_MOUNT_FUJI = 3776\n",
    "THICKNESS = 0.00008\n",
    "\n",
    "def number_of_folds_exceeding_height(height=1000, t0=0.00008):\n",
    "    if height < t0:\n",
    "        return 0\n",
    "    folded_thickness = 0\n",
    "    i = 0\n",
    "    while height > folded_thickness:\n",
    "        i  += 1\n",
    "        folded_thickness = t0 * 2 ** i\n",
    "    return i\n",
    "\n",
    "print(number_of_folds_exceeding_height(HEIGHT_OF_MOUNT_FUJI ,THICKNESS))\n"
   ]
  },
  {
   "cell_type": "markdown",
   "metadata": {},
   "source": [
    "[Problem 2] Creating a function corresponding to an arbitrary thickness"
   ]
  },
  {
   "cell_type": "code",
   "execution_count": 12,
   "metadata": {},
   "outputs": [
    {
     "name": "stdout",
     "output_type": "stream",
     "text": [
      "188646348487\n"
     ]
    }
   ],
   "source": [
    "import math\n",
    "MOUUNT_FUJI = 3776\n",
    "def required_length(number_of_fold, t0=0.00008):\n",
    "    length = (math.pi * t0  * (2**number_of_fold + 4) * (2**number_of_fold -1)) / 6\n",
    "    return int(length)\n",
    "\n",
    "print(required_length(\n",
    "    number_of_folds_exceeding_height(HEIGHT_OF_MOUNT_FUJI ,THICKNESS)\n",
    "))\n"
   ]
  },
  {
   "cell_type": "markdown",
   "metadata": {},
   "source": [
    "[problem 3] Creating a function corresponding to an arbitrary thickness"
   ]
  },
  {
   "cell_type": "code",
   "execution_count": 14,
   "metadata": {},
   "outputs": [
    {
     "name": "stdout",
     "output_type": "stream",
     "text": [
      "188646348487\n"
     ]
    }
   ],
   "source": [
    "import math\n",
    "MOUNT_FUJI = 3776\n",
    "def required_length(number_of_fold, thickness=0.00008):\n",
    "    length = (math.pi * thickness  * (2**number_of_fold + 4) * (2**number_of_fold -1)) / 6\n",
    "    return int(length)\n",
    "\n",
    "print(required_length(\n",
    "    number_of_folds_exceeding_height(MOUNT_FUJI ,THICKNESS)#FUNCTION FROM PROBLEM ONE\n",
    "))\n"
   ]
  },
  {
   "cell_type": "code",
   "execution_count": 11,
   "metadata": {},
   "outputs": [
    {
     "name": "stdout",
     "output_type": "stream",
     "text": [
      "3090781636525682\n"
     ]
    }
   ],
   "source": [
    "import math\n",
    "moon = 384400\n",
    "def required_length(number_of_fold, thickness=0.00008):\n",
    "    length = (math.pi * thickness  * (2**number_of_fold + 4) * (2**number_of_fold -1)) / 6\n",
    "    return int(length)\n",
    "\n",
    "print(required_length(\n",
    "    number_of_folds_exceeding_height(moon, THICKNESS)))\n"
   ]
  },
  {
   "cell_type": "code",
   "execution_count": null,
   "metadata": {},
   "outputs": [],
   "source": []
  }
 ],
 "metadata": {
  "kernelspec": {
   "display_name": "Python 3",
   "language": "python",
   "name": "python3"
  },
  "language_info": {
   "codemirror_mode": {
    "name": "ipython",
    "version": 3
   },
   "file_extension": ".py",
   "mimetype": "text/x-python",
   "name": "python",
   "nbconvert_exporter": "python",
   "pygments_lexer": "ipython3",
   "version": "3.8.5"
  }
 },
 "nbformat": 4,
 "nbformat_minor": 4
}
