{
 "cells": [
  {
   "cell_type": "markdown",
   "metadata": {},
   "source": [
    "[Problem] the day when chestnut buns cover the solar system"
   ]
  },
  {
   "cell_type": "code",
   "execution_count": 1,
   "metadata": {},
   "outputs": [
    {
     "name": "stdout",
     "output_type": "stream",
     "text": [
      "885\n"
     ]
    }
   ],
   "source": [
    "import math\n",
    "chestnut_cake_volume = 6 * 4 * 3 /1000000\n",
    "volume_of_solar_system = math.pi * 3 * (15 * 10 **15)**3 / 4\n",
    "\n",
    "def covering_minutes(sprinkle_target, compare_target):\n",
    "    i = 0\n",
    "    while sprinkle_target < compare_target:\n",
    "        \n",
    "        sprinkle_target *= 2\n",
    "        i += 1\n",
    "    minute = i * 5   \n",
    "    return minute\n",
    "\n",
    "\n",
    "print(covering_minutes(chestnut_cake_volume, volume_of_solar_system))\n"
   ]
  },
  {
   "cell_type": "code",
   "execution_count": 2,
   "metadata": {},
   "outputs": [
    {
     "name": "stdout",
     "output_type": "stream",
     "text": [
      "175\n"
     ]
    }
   ],
   "source": [
    "TOKYO_DOME = 1240000\n",
    "print(covering_minutes(chestnut_cake_volume, TOKYO_DOME))\n"
   ]
  },
  {
   "cell_type": "code",
   "execution_count": null,
   "metadata": {},
   "outputs": [],
   "source": []
  }
 ],
 "metadata": {
  "kernelspec": {
   "display_name": "Python 3",
   "language": "python",
   "name": "python3"
  },
  "language_info": {
   "codemirror_mode": {
    "name": "ipython",
    "version": 3
   },
   "file_extension": ".py",
   "mimetype": "text/x-python",
   "name": "python",
   "nbconvert_exporter": "python",
   "pygments_lexer": "ipython3",
   "version": "3.8.5"
  }
 },
 "nbformat": 4,
 "nbformat_minor": 4
}
